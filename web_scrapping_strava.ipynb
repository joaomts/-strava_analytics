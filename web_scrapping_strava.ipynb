{
 "cells": [
  {
   "cell_type": "markdown",
   "metadata": {},
   "source": [
    "# Web Scraping - Strava"
   ]
  },
  {
   "cell_type": "code",
   "execution_count": 1,
   "metadata": {},
   "outputs": [],
   "source": [
    "## Biblioteca necessárias\n",
    "\n",
    "import pandas as pd\n",
    "from time import sleep\n",
    "from selenium import webdriver \n",
    "from selenium.webdriver.chrome.options import Options \n",
    "from selenium.webdriver.chrome.service import Service\n",
    "from selenium.webdriver.common.by import By\n",
    "from selenium.webdriver.common.keys import Keys \n",
    "\n",
    "from webdriver_manager.chrome import ChromeDriverManager\n",
    "from selenium.webdriver.common.action_chains import ActionChains\n",
    "\n",
    "from selenium.webdriver.common.actions.action_builder import ActionBuilder\n",
    "from selenium.webdriver.common.actions.mouse_button import MouseButton\n",
    "from selenium.webdriver.support.wait import WebDriverWait\n",
    "from selenium.webdriver.support import expected_conditions as EC\n",
    "import selenium.common.exceptions\n",
    "from selenium.common.exceptions import TimeoutException, NoSuchElementException,StaleElementReferenceException\n"
   ]
  },
  {
   "cell_type": "markdown",
   "metadata": {},
   "source": [
    "## Iniciando uma instância do google chrome"
   ]
  },
  {
   "cell_type": "code",
   "execution_count": 2,
   "metadata": {},
   "outputs": [],
   "source": [
    "# Utilizado para iniciar uma instacia do google chrome webdriver\n",
    "service = ChromeDriverManager().install() # Pega o caminho do executavel chrome\n",
    "\n",
    "#Usado para definir a preferência para o browser do chrome\n",
    "options = webdriver.ChromeOptions()\n",
    "\n",
    "#Inicia-se uma instância do google chrome com as definições \n",
    "driver = webdriver.Chrome(service, options=options)\n",
    "\n",
    "sleep(1)\n",
    "\n",
    "### Entrando no Site - Strava\n",
    "url = 'https://www.strava.com/segments'\n",
    "url_2 = 'https://www.strava.com/segments/35231066' # Segmento lamision35km2023\n",
    "driver.get(url)\n",
    "\n",
    "#Login \n",
    "usuario=\"joaomarcos1296@gmail.com\"\n",
    "senha=\"Jo@o1296\"\n",
    "\n",
    "\n",
    "campo_usuario = WebDriverWait(driver, 60).until(\n",
    "    EC.presence_of_element_located(('xpath','//*[@id=\"email\"]')))\n",
    "campo_usuario.send_keys(usuario)\n",
    "\n",
    "campo_senha = WebDriverWait(driver, 60).until(\n",
    "    EC.presence_of_element_located(('xpath','//*[@id=\"password\"]')))\n",
    "campo_senha.send_keys(senha)\n",
    "\n",
    "botao_login = WebDriverWait(driver, 60).until(\n",
    "    EC.presence_of_element_located(('xpath','//*[@id=\"login-button\"]'))) \n",
    "botao_login.click()\n",
    "sleep(5)\n",
    "\n",
    "\n",
    "# Acessa a Url Alvo\n",
    "driver.get(url_2)\n",
    "sleep(3)\n",
    "\n",
    "botao_filtro_H_M = WebDriverWait(driver, 60).until(\n",
    "    EC.presence_of_element_located(('xpath','//*[@id=\"segment-results\"]/div[2]/table/tbody/tr/td[4]/div/button'))) \n",
    "botao_filtro_H_M.click()\n",
    "\n",
    "botao_filtra_H = WebDriverWait(driver, 60).until(\n",
    "    EC.presence_of_element_located(('xpath','//*[@id=\"segment-results\"]/div[2]/table/tbody/tr/td[4]/div/ul/li[2]/a'))) \n",
    "botao_filtra_H.click()\n",
    "sleep(3)\n"
   ]
  },
  {
   "cell_type": "code",
   "execution_count": 4,
   "metadata": {},
   "outputs": [],
   "source": [
    "def verifica_nomes_atletas():\n",
    "    try:\n",
    "        # Tente encontrar um elemento que contenha os nomes dos atletas\n",
    "        driver.find_element(By.XPATH, '//*[@id=\"results\"]/table/tbody/tr/td[2]/a')\n",
    "        return True  # Se encontrar, retorna True (há nomes de atletas)\n",
    "    except NoSuchElementException:\n",
    "        return False \n",
    "\n",
    "def verifica_num_pag():\n",
    "    try:\n",
    "        num_paginas = len(driver.find_elements(By.XPATH, '//*[@id=\"results\"]/nav/ul/li'))\n",
    "        if num_paginas == 0:\n",
    "            num_paginas = 1\n",
    "        else:\n",
    "            num_paginas\n",
    "    except:\n",
    "        num_paginas = 1\n",
    "    \n",
    "    return num_paginas"
   ]
  },
  {
   "cell_type": "code",
   "execution_count": 3,
   "metadata": {},
   "outputs": [],
   "source": [
    "# Selecionando os dados dos corredores\n",
    "s = 25\n",
    "n = 26\n",
    "num_pag = verifica_num_pag()\n",
    "valida_nome = verifica_nomes_atletas()\n",
    "for i in range(1, num_pag):\n",
    "        \n",
    "    # Entrando nos resultados de cada corredor\n",
    "    for j in range(s,n):\n",
    "        try: # Verificando em qual aba está - 1 a 5 - caso não esteja na aba certa, clica-se na aba correta\n",
    "            driver.find_element(\n",
    "                by=By.XPATH,\n",
    "                value=f'//*[@id=\"results\"]/nav/ul/li[{i+1}]/a',\n",
    "                ).click()\n",
    "            sleep(2)\n",
    "            driver.find_element(\n",
    "                by = By.XPATH,\n",
    "                value = f'//*[@id=\"results\"]/table/tbody/tr[{j}]/td[3]/a',\n",
    "                ).click() # Clicando no link do atleta\n",
    "            driver.back()\n",
    "            sleep(2)\n",
    "        \n",
    "        except Exception: # Caso ja esteja na aba correta, vai direto pro atleta\n",
    "            try:\n",
    "                driver.find_element(\n",
    "                    by = By.XPATH,\n",
    "                    value = f'//*[@id=\"results\"]/table/tbody/tr[{j}]/td[3]/a',\n",
    "                    ).click() # Clicando no link do atleta\n",
    "                driver.back()\n",
    "                sleep(2)\n",
    "            except Exception:\n",
    "                break\n",
    "\n"
   ]
  },
  {
   "cell_type": "code",
   "execution_count": 8,
   "metadata": {},
   "outputs": [
    {
     "name": "stdout",
     "output_type": "stream",
     "text": [
      "7\n",
      "True\n"
     ]
    }
   ],
   "source": [
    "num_pag = verifica_num_pag()\n",
    "print(num_pag)\n",
    "valida_nome = verifica_nomes_atletas()\n",
    "print(valida_nome)"
   ]
  },
  {
   "cell_type": "code",
   "execution_count": 28,
   "metadata": {},
   "outputs": [],
   "source": [
    "def pega_nome_atletas():\n",
    "    # Selecionando os dados dos corredores\n",
    "    s = 1\n",
    "    n = 26\n",
    "    num_pag = verifica_num_pag()\n",
    "    valida_nome = verifica_nomes_atletas()\n",
    "    nomes_atletas = []\n",
    "\n",
    "    for i in range(1, num_pag):\n",
    "            \n",
    "        # Entrando nos resultados de cada corredor\n",
    "        for j in range(s,n):\n",
    "            #print(i,j)\n",
    "            try: # Verificando em qual aba está - 1 a 5 - caso não esteja na aba certa, clica-se na aba correta\n",
    "                driver.find_element(\n",
    "                    by=By.XPATH,\n",
    "                    value=f'//*[@id=\"results\"]/nav/ul/li[{i+1}]/a',\n",
    "                    ).click()\n",
    "                sleep(1)\n",
    "                if j == 1:\n",
    "                    nome = driver.find_element(\n",
    "                                        by=By.XPATH,\n",
    "                                        value=f'//*[@id=\"results\"]/table/tbody/tr[{j}]/td[2]/strong/a',\n",
    "                                    ).text\n",
    "                    #print(nome)\n",
    "                    nomes_atletas.append(nome)\n",
    "                    sleep(1)\n",
    "                    \n",
    "                else:\n",
    "                    nome = driver.find_element(\n",
    "                                        by=By.XPATH,\n",
    "                                        value=f'//*[@id=\"results\"]/table/tbody/tr[{j}]/td[2]/a',\n",
    "                                    ).text\n",
    "                    #print(nome)\n",
    "                    nomes_atletas.append(nome)\n",
    "                    sleep(1)\n",
    "            \n",
    "            except Exception: # Caso ja esteja na aba correta, vai direto pro atleta\n",
    "                try:\n",
    "                    if j == 1:\n",
    "                        nome = driver.find_element(\n",
    "                                            by=By.XPATH,\n",
    "                                            value=f'//*[@id=\"results\"]/table/tbody/tr[{j}]/td[2]/strong/a',\n",
    "                                        ).text\n",
    "                        #print(nome)\n",
    "                        nomes_atletas.append(nome)\n",
    "                        sleep(1)\n",
    "                    \n",
    "                    else:\n",
    "                        nome = driver.find_element(\n",
    "                                            by=By.XPATH,\n",
    "                                            value=f'//*[@id=\"results\"]/table/tbody/tr[{j}]/td[2]/a',\n",
    "                                        ).text\n",
    "                        #print(nome)\n",
    "                        nomes_atletas.append(nome)\n",
    "                        sleep(1)\n",
    "                        \n",
    "                except Exception:\n",
    "                    print('except')\n",
    "                    break\n",
    "    return nomes_atletas\n",
    "\n",
    "\n",
    "\n",
    "### Aqui quando passa pra aba 2 ele busca o primeiro nome em negrito, pq o j é 1 e como ele nao acha ele pula"
   ]
  },
  {
   "cell_type": "code",
   "execution_count": 29,
   "metadata": {},
   "outputs": [
    {
     "name": "stdout",
     "output_type": "stream",
     "text": [
      "except\n",
      "except\n",
      "except\n",
      "except\n",
      "except\n"
     ]
    }
   ],
   "source": [
    "nomes_corredores = pega_nome_atletas()"
   ]
  },
  {
   "cell_type": "code",
   "execution_count": 27,
   "metadata": {},
   "outputs": [
    {
     "data": {
      "text/plain": [
       "25"
      ]
     },
     "execution_count": 27,
     "metadata": {},
     "output_type": "execute_result"
    }
   ],
   "source": [
    "len(nomes_corredores)"
   ]
  },
  {
   "cell_type": "code",
   "execution_count": null,
   "metadata": {},
   "outputs": [],
   "source": [
    "def executa_consulta():\n",
    "    valida_nome = verifica_nomes_atletas()\n",
    "    if valida_nome == True:\n",
    "        num_pag = verifica_num_pag()\n",
    "        "
   ]
  },
  {
   "cell_type": "code",
   "execution_count": null,
   "metadata": {},
   "outputs": [],
   "source": [
    "def pega_nomes_atletas(nomes_atletas):\n",
    "    ver = verifica_nomes_atletas()\n",
    "    print(ver)\n",
    "    pag = verifica_num_pag()\n",
    "    print(pag)\n",
    "    if ver:\n",
    "        for a in range(1,pag-1):\n",
    "            for n in range(1,26):  \n",
    "                print(n)        \n",
    "                try:  \n",
    "                    nome = driver.find_element(\n",
    "                                by=By.XPATH,\n",
    "                                value=f'//*[@id=\"results\"]/table/tbody/tr[{n}]/td[2]/a',\n",
    "                            ).text\n",
    "                    nomes_atletas.append(nome)\n",
    "                    print(nome)\n",
    "                    sleep(2)\n",
    "                except NoSuchElementException:\n",
    "                    break\n",
    "            try:\n",
    "                print(a)\n",
    "                print(f'//*[@id=\"results\"]/nav/ul/li[{a+2}]/a')\n",
    "                driver.find_element(\n",
    "                    by=By.XPATH,\n",
    "                    value=f'//*[@id=\"results\"]/nav/ul/li[{a+2}]/a',\n",
    "                    ).click()\n",
    "                sleep(5)\n",
    "                #a = a+1\n",
    "            except NoSuchElementException:\n",
    "                # Se não houver próxima página, saia do loop\n",
    "                #a = 10\n",
    "                break\n",
    "    else:\n",
    "        print(\"sem nomes\")\n",
    "\n",
    "\n"
   ]
  },
  {
   "cell_type": "code",
   "execution_count": null,
   "metadata": {},
   "outputs": [],
   "source": [
    "num_pag = verifica_num_pag()\n",
    "print(num_pag)\n"
   ]
  },
  {
   "cell_type": "code",
   "execution_count": null,
   "metadata": {},
   "outputs": [],
   "source": [
    "def pega_nomes_atletas(nomes_atletas):\n",
    "    ver = verifica_nomes_atletas()\n",
    "    print(ver)\n",
    "    pag = verifica_num_pag()\n",
    "    print(pag)\n",
    "    \n",
    "    if ver:\n",
    "        current_page = 1\n",
    "        while current_page <= pag:\n",
    "            for n in range(1, 26):  \n",
    "                try:  \n",
    "                    nome = driver.find_element(\n",
    "                                by=By.XPATH,\n",
    "                                value=f'//*[@id=\"results\"]/table/tbody/tr[{n}]/td[2]/a',\n",
    "                            ).text\n",
    "                    nomes_atletas.append(nome)\n",
    "                    print(nome)\n",
    "                except NoSuchElementException:\n",
    "                    break\n",
    "            \n",
    "            try:\n",
    "                if current_page < pag:\n",
    "                    # Clicar no botão da próxima página\n",
    "                    next_page = driver.find_element(\n",
    "                        by=By.XPATH,\n",
    "                        value='//*[@id=\"results\"]/nav/ul/li[contains(@class, \"next\")]/a'\n",
    "                    )\n",
    "                    next_page.click()\n",
    "                    current_page += 1\n",
    "                    sleep(5)  # Ajuste o tempo de espera conforme necessário\n",
    "                else:\n",
    "                    break\n",
    "            except NoSuchElementException:\n",
    "                # Se não houver próxima página, saia do loop\n",
    "                break\n",
    "    else:\n",
    "        print(\"sem nomes\")"
   ]
  },
  {
   "cell_type": "code",
   "execution_count": null,
   "metadata": {},
   "outputs": [],
   "source": [
    "def pega_nomes_atletas(nomes_atletas):\n",
    "    ver = verifica_nomes_atletas()\n",
    "    print(ver)\n",
    "    pag = verifica_num_pag()\n",
    "    print(pag)\n",
    "    if ver:\n",
    "        for a in range(1,pag+1):\n",
    "            for n in range(1,26): \n",
    "                if current_page <= pag:\n",
    "                    print(n)        \n",
    "                    try:  \n",
    "                        nome = driver.find_element(\n",
    "                                    by=By.XPATH,\n",
    "                                    value=f'//*[@id=\"results\"]/table/tbody/tr[{n}]/td[2]/a',\n",
    "                                ).text\n",
    "                        nomes_atletas.append(nome)\n",
    "                        print(nome)\n",
    "                        sleep(2)\n",
    "                    except NoSuchElementException:\n",
    "                        break\n",
    "            try:\n",
    "                print(a)\n",
    "                print(f'//*[@id=\"results\"]/nav/ul/li[{a+2}]/a')\n",
    "                driver.find_element(\n",
    "                    by=By.XPATH,\n",
    "                    value=f'//*[@id=\"results\"]/nav/ul/li[{a+2}]/a',\n",
    "                    ).click()\n",
    "                sleep(5)\n",
    "                #a = a+1\n",
    "            except NoSuchElementException:\n",
    "                # Se não houver próxima página, saia do loop\n",
    "                #a = 10\n",
    "                break\n",
    "    else:\n",
    "        print(\"sem nomes\")"
   ]
  },
  {
   "cell_type": "code",
   "execution_count": null,
   "metadata": {},
   "outputs": [],
   "source": [
    "def pega_nomes_atletas(nomes_atletas):\n",
    "    ver = verifica_nomes_atletas()\n",
    "    print(ver)\n",
    "    pag = verifica_num_pag()\n",
    "    print(pag)\n",
    "    \n",
    "    if ver:\n",
    "        current_page = 1\n",
    "        while current_page <= pag:\n",
    "            for n in range(1, 26):  \n",
    "                try:  \n",
    "                    nome = driver.find_element(\n",
    "                                by=By.XPATH,\n",
    "                                value=f'//*[@id=\"results\"]/table/tbody/tr[{n}]/td[2]/a',\n",
    "                            ).text\n",
    "                    nomes_atletas.append(nome)\n",
    "                    print(nome)\n",
    "                except NoSuchElementException:\n",
    "                    break\n",
    "            \n",
    "            if current_page < pag:\n",
    "                try:\n",
    "                    # Clicar no botão da próxima página\n",
    "                    next_page = driver.find_element(\n",
    "                        by=By.XPATH,\n",
    "                        value=f'//*[@id=\"results\"]/nav/ul/li[contains(@class, \"next\")]/a'\n",
    "                    )\n",
    "                    next_page.click()\n",
    "                    sleep(5)  # Ajuste o tempo de espera conforme necessário\n",
    "                    current_page += 1\n",
    "                except NoSuchElementException:\n",
    "                    break\n",
    "            else:\n",
    "                break\n",
    "    else:\n",
    "        print(\"sem nomes\")"
   ]
  },
  {
   "cell_type": "code",
   "execution_count": null,
   "metadata": {},
   "outputs": [],
   "source": [
    "nomes_atletas = []\n",
    "pega_nomes_atletas(nomes_atletas)"
   ]
  },
  {
   "cell_type": "code",
   "execution_count": null,
   "metadata": {},
   "outputs": [],
   "source": [
    "# Selecionando nomes e faixa de idade dos corredore\n",
    "def pega_faixas_nomes(faixas_etarias, nomes_atletas):\n",
    "    for i in range(2,11):\n",
    "        # Clica no expandir as idades\n",
    "        driver.find_element(\n",
    "            by = By.XPATH,\n",
    "            value = '//*[@id=\"premium-enhanced\"]/ul/ul[2]/li[11]/button'\n",
    "        ).click()\n",
    "        sleep(2)\n",
    "\n",
    "        # Clica na faixa idade\n",
    "        #print(f'//*[@id=\"premium-enhanced\"]/ul/ul[2]/li[{i}]/a')\n",
    "        driver.find_element(\n",
    "            by = By.XPATH,\n",
    "            value = f'//*[@id=\"premium-enhanced\"]/ul/ul[2]/li[{i}]/a'\n",
    "        ).click()\n",
    "        # Pega o texto da faixa etaria\n",
    "        faixa_texto = driver.find_element(\n",
    "            by = By.XPATH,\n",
    "            value = f'//*[@id=\"premium-enhanced\"]/ul/ul[2]/li[{i}]/a'\n",
    "        ).text\n",
    "        print(faixa_texto)\n",
    "        faixas_etarias.append(faixa_texto)\n",
    "        sleep(3)        \n",
    "        # Pega o nome do atleta\n",
    "        pega_nomes_atletas(nomes_atletas)\n",
    "        \n",
    "        sleep(2)\n",
    "\n"
   ]
  },
  {
   "cell_type": "code",
   "execution_count": null,
   "metadata": {},
   "outputs": [],
   "source": [
    "faixas_etarias = []\n",
    "nomes_atletas = []\n",
    "\n",
    "pega_faixas_nomes(faixas_etarias,nomes_atletas)\n",
    "#pega_nomes_atletas(nomes_atletas)"
   ]
  },
  {
   "cell_type": "code",
   "execution_count": null,
   "metadata": {},
   "outputs": [],
   "source": [
    "len(nomes_atletas)\n",
    "len(faixas_etarias)"
   ]
  },
  {
   "cell_type": "code",
   "execution_count": null,
   "metadata": {},
   "outputs": [],
   "source": [
    "nomes_atletas"
   ]
  },
  {
   "cell_type": "code",
   "execution_count": null,
   "metadata": {},
   "outputs": [],
   "source": [
    "df_teste = pd.DataFrame(nomes_atletas, faixas_etarias)\n",
    "df_teste.head()"
   ]
  },
  {
   "cell_type": "markdown",
   "metadata": {},
   "source": [
    "### Segments"
   ]
  },
  {
   "cell_type": "code",
   "execution_count": null,
   "metadata": {},
   "outputs": [],
   "source": [
    "\n",
    "## Procura Segmentos Alvo\n",
    "segmento = \"La Mision\"\n",
    "\n",
    "campo_seg = WebDriverWait(driver, 60).until(\n",
    "    EC.presence_of_element_located(('xpath','//*[@id=\"keywords\"]')))\n",
    "campo_seg.send_keys(segmento)\n",
    "\n",
    "botao_run = WebDriverWait(driver, 60).until(\n",
    "    EC.presence_of_element_located(('xpath','//*[@id=\"activity-type\"]/ul/li[2]/a'))) \n",
    "botao_run.click()\n",
    "\n",
    "botao_busca = WebDriverWait(driver, 60).until(\n",
    "    EC.presence_of_element_located(('xpath','//*[@id=\"climb-search-button\"]'))) \n",
    "botao_busca.click()\n",
    "\n",
    "\n"
   ]
  },
  {
   "cell_type": "code",
   "execution_count": null,
   "metadata": {},
   "outputs": [],
   "source": []
  }
 ],
 "metadata": {
  "kernelspec": {
   "display_name": "gpx_strava_project",
   "language": "python",
   "name": "python3"
  },
  "language_info": {
   "codemirror_mode": {
    "name": "ipython",
    "version": 3
   },
   "file_extension": ".py",
   "mimetype": "text/x-python",
   "name": "python",
   "nbconvert_exporter": "python",
   "pygments_lexer": "ipython3",
   "version": "3.8.18"
  }
 },
 "nbformat": 4,
 "nbformat_minor": 2
}
