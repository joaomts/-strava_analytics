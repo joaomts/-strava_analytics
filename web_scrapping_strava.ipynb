{
 "cells": [
  {
   "cell_type": "markdown",
   "metadata": {},
   "source": [
    "# Web Scraping - Strava"
   ]
  },
  {
   "cell_type": "code",
   "execution_count": 2,
   "metadata": {},
   "outputs": [],
   "source": [
    "## Biblioteca necessárias\n",
    "\n",
    "import pandas as pd\n",
    "from time import sleep\n",
    "from selenium import webdriver \n",
    "from selenium.webdriver.chrome.options import Options \n",
    "from selenium.webdriver.chrome.service import Service\n",
    "from selenium.webdriver.common.by import By\n",
    "from selenium.webdriver.common.keys import Keys \n",
    "\n",
    "from webdriver_manager.chrome import ChromeDriverManager\n",
    "from selenium.webdriver.common.action_chains import ActionChains\n",
    "\n",
    "from selenium.webdriver.common.actions.action_builder import ActionBuilder\n",
    "from selenium.webdriver.common.actions.mouse_button import MouseButton\n",
    "from selenium.webdriver.support.wait import WebDriverWait\n",
    "from selenium.webdriver.support import expected_conditions as EC\n",
    "import selenium.common.exceptions\n",
    "#from selenium.common.exceptions import TimeoutException, NoSuchElementException,StaleElementReferenceException\n"
   ]
  },
  {
   "cell_type": "markdown",
   "metadata": {},
   "source": [
    "## Iniciando uma instância do google chrome"
   ]
  },
  {
   "cell_type": "code",
   "execution_count": 3,
   "metadata": {},
   "outputs": [],
   "source": [
    "# Utilizado para iniciar uma instacia do google chrome webdriver\n",
    "service = ChromeDriverManager().install() # Pega o caminho do executavel chrome\n",
    "\n",
    "#Usado para definir a preferência para o browser do chrome\n",
    "options = webdriver.ChromeOptions()\n",
    "\n",
    "#Inicia-se uma instância do google chrome com as definições \n",
    "driver = webdriver.Chrome(service, options=options)\n",
    "\n",
    "sleep(1)\n",
    "\n",
    "### Entrando no Site - Strava\n",
    "url = 'https://www.strava.com/segments'\n",
    "url_2 = 'https://www.strava.com/segments/35231066' # Segmento lamision35km2023\n",
    "driver.get(url)\n",
    "\n",
    "#Login \n",
    "usuario=\"joaomarcos1296@gmail.com\"\n",
    "senha=\"Jo@o1296\"\n",
    "\n",
    "\n",
    "campo_usuario = WebDriverWait(driver, 60).until(\n",
    "    EC.presence_of_element_located(('xpath','//*[@id=\"email\"]')))\n",
    "campo_usuario.send_keys(usuario)\n",
    "\n",
    "campo_senha = WebDriverWait(driver, 60).until(\n",
    "    EC.presence_of_element_located(('xpath','//*[@id=\"password\"]')))\n",
    "campo_senha.send_keys(senha)\n",
    "\n",
    "botao_login = WebDriverWait(driver, 60).until(\n",
    "    EC.presence_of_element_located(('xpath','//*[@id=\"login-button\"]'))) \n",
    "botao_login.click()\n",
    "sleep(5)\n",
    "\n",
    "# Acessa a Url Alvo\n",
    "driver.get(url_2)\n",
    "sleep(3)\n",
    "\n",
    "botao_filtro_H_M = WebDriverWait(driver, 60).until(\n",
    "    EC.presence_of_element_located(('xpath','//*[@id=\"segment-results\"]/div[2]/table/tbody/tr/td[4]/div/button'))) \n",
    "botao_filtro_H_M.click()\n",
    "\n",
    "botao_filtra_H = WebDriverWait(driver, 60).until(\n",
    "    EC.presence_of_element_located(('xpath','//*[@id=\"segment-results\"]/div[2]/table/tbody/tr/td[4]/div/ul/li[2]/a'))) \n",
    "botao_filtra_H.click()\n",
    "\n"
   ]
  },
  {
   "cell_type": "code",
   "execution_count": 44,
   "metadata": {},
   "outputs": [
    {
     "name": "stdout",
     "output_type": "stream",
     "text": [
      "//*[@id=\"results\"]/table/tbody/tr[25]/td[3]/a\n",
      "//*[@id=\"results\"]/table/tbody/tr[25]/td[3]/a\n"
     ]
    }
   ],
   "source": [
    "# Selecionando os dados dos corredores\n",
    "s = 25\n",
    "n = 26\n",
    "for i in range(1,6):\n",
    "        \n",
    "    # Entrando nos resultados de cada corredor\n",
    "    for j in range(s,n):\n",
    "        try: # Verificando em qual aba está - 1 a 5 - caso não esteja na aba certa, clica-se na aba correta\n",
    "            driver.find_element(\n",
    "                by=By.XPATH,\n",
    "                value=f'//*[@id=\"results\"]/nav/ul/li[{i+1}]/a',\n",
    "                ).click()\n",
    "            sleep(2)\n",
    "            driver.find_element(\n",
    "                by = By.XPATH,\n",
    "                value = f'//*[@id=\"results\"]/table/tbody/tr[{j}]/td[3]/a',\n",
    "                ).click() # Clicando no link do atleta\n",
    "            driver.back()\n",
    "            sleep(2)\n",
    "        \n",
    "        except Exception: # Caso ja esteja na aba correta, vai direto pro atleta\n",
    "            try:\n",
    "                driver.find_element(\n",
    "                    by = By.XPATH,\n",
    "                    value = f'//*[@id=\"results\"]/table/tbody/tr[{j}]/td[3]/a',\n",
    "                    ).click() # Clicando no link do atleta\n",
    "                driver.back()\n",
    "                sleep(2)\n",
    "            except Exception:\n",
    "                break\n",
    "\n"
   ]
  },
  {
   "cell_type": "code",
   "execution_count": null,
   "metadata": {},
   "outputs": [],
   "source": [
    "# Selecionando nomes e faixa de idade dos corredores\n",
    "\n"
   ]
  },
  {
   "cell_type": "markdown",
   "metadata": {},
   "source": [
    "### Segments"
   ]
  },
  {
   "cell_type": "code",
   "execution_count": 12,
   "metadata": {},
   "outputs": [],
   "source": [
    "\n",
    "## Procura Segmentos Alvo\n",
    "segmento = \"La Mision\"\n",
    "\n",
    "campo_seg = WebDriverWait(driver, 60).until(\n",
    "    EC.presence_of_element_located(('xpath','//*[@id=\"keywords\"]')))\n",
    "campo_seg.send_keys(segmento)\n",
    "\n",
    "botao_run = WebDriverWait(driver, 60).until(\n",
    "    EC.presence_of_element_located(('xpath','//*[@id=\"activity-type\"]/ul/li[2]/a'))) \n",
    "botao_run.click()\n",
    "\n",
    "botao_busca = WebDriverWait(driver, 60).until(\n",
    "    EC.presence_of_element_located(('xpath','//*[@id=\"climb-search-button\"]'))) \n",
    "botao_busca.click()\n",
    "\n",
    "\n"
   ]
  },
  {
   "cell_type": "code",
   "execution_count": null,
   "metadata": {},
   "outputs": [],
   "source": []
  }
 ],
 "metadata": {
  "kernelspec": {
   "display_name": "gpx_strava_project",
   "language": "python",
   "name": "python3"
  },
  "language_info": {
   "codemirror_mode": {
    "name": "ipython",
    "version": 3
   },
   "file_extension": ".py",
   "mimetype": "text/x-python",
   "name": "python",
   "nbconvert_exporter": "python",
   "pygments_lexer": "ipython3",
   "version": "3.8.18"
  }
 },
 "nbformat": 4,
 "nbformat_minor": 2
}
