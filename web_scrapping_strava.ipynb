{
 "cells": [
  {
   "cell_type": "markdown",
   "metadata": {},
   "source": [
    "# Web Scraping - Strava"
   ]
  },
  {
   "cell_type": "code",
   "execution_count": 104,
   "metadata": {},
   "outputs": [],
   "source": [
    "## Biblioteca necessárias\n",
    "\n",
    "import pandas as pd\n",
    "from time import sleep\n",
    "from selenium import webdriver \n",
    "from selenium.webdriver.chrome.options import Options \n",
    "from selenium.webdriver.chrome.service import Service\n",
    "from selenium.webdriver.common.by import By\n",
    "from selenium.webdriver.common.keys import Keys \n",
    "\n",
    "from webdriver_manager.chrome import ChromeDriverManager\n",
    "from selenium.webdriver.common.action_chains import ActionChains\n",
    "\n",
    "from selenium.webdriver.common.actions.action_builder import ActionBuilder\n",
    "from selenium.webdriver.common.actions.mouse_button import MouseButton\n",
    "from selenium.webdriver.support.wait import WebDriverWait\n",
    "from selenium.webdriver.support import expected_conditions as EC\n",
    "import selenium.common.exceptions\n",
    "from selenium.common.exceptions import TimeoutException, NoSuchElementException,StaleElementReferenceException\n"
   ]
  },
  {
   "cell_type": "markdown",
   "metadata": {},
   "source": [
    "## Iniciando uma instância do google chrome"
   ]
  },
  {
   "cell_type": "code",
   "execution_count": 105,
   "metadata": {},
   "outputs": [],
   "source": [
    "# Utilizado para iniciar uma instacia do google chrome webdriver\n",
    "service = ChromeDriverManager().install() # Pega o caminho do executavel chrome\n",
    "\n",
    "#Usado para definir a preferência para o browser do chrome\n",
    "options = webdriver.ChromeOptions()\n",
    "\n",
    "#Inicia-se uma instância do google chrome com as definições \n",
    "driver = webdriver.Chrome(service, options=options)\n",
    "\n",
    "sleep(1)\n",
    "\n",
    "### Entrando no Site - Strava\n",
    "url = 'https://www.strava.com/segments'\n",
    "url_2 = 'https://www.strava.com/segments/35231066' # Segmento lamision35km2023\n",
    "driver.get(url)\n",
    "\n",
    "#Login \n",
    "usuario=\"joaomarcos1296@gmail.com\"\n",
    "senha=\"Jo@o1296\"\n",
    "\n",
    "\n",
    "campo_usuario = WebDriverWait(driver, 60).until(\n",
    "    EC.presence_of_element_located(('xpath','//*[@id=\"email\"]')))\n",
    "campo_usuario.send_keys(usuario)\n",
    "\n",
    "campo_senha = WebDriverWait(driver, 60).until(\n",
    "    EC.presence_of_element_located(('xpath','//*[@id=\"password\"]')))\n",
    "campo_senha.send_keys(senha)\n",
    "\n",
    "botao_login = WebDriverWait(driver, 60).until(\n",
    "    EC.presence_of_element_located(('xpath','//*[@id=\"login-button\"]'))) \n",
    "botao_login.click()\n",
    "sleep(5)\n",
    "\n",
    "\n",
    "# Acessa a Url Alvo\n",
    "driver.get(url_2)\n",
    "sleep(3)\n",
    "\n",
    "botao_filtro_H_M = WebDriverWait(driver, 60).until(\n",
    "    EC.presence_of_element_located(('xpath','//*[@id=\"segment-results\"]/div[2]/table/tbody/tr/td[4]/div/button'))) \n",
    "botao_filtro_H_M.click()\n",
    "\n",
    "botao_filtra_H = WebDriverWait(driver, 60).until(\n",
    "    EC.presence_of_element_located(('xpath','//*[@id=\"segment-results\"]/div[2]/table/tbody/tr/td[4]/div/ul/li[2]/a'))) \n",
    "botao_filtra_H.click()\n",
    "sleep(3)\n"
   ]
  },
  {
   "cell_type": "code",
   "execution_count": 8,
   "metadata": {},
   "outputs": [],
   "source": [
    "# Selecionando os dados dos corredores\n",
    "s = 25\n",
    "n = 26\n",
    "for i in range(1,6):\n",
    "        \n",
    "    # Entrando nos resultados de cada corredor\n",
    "    for j in range(s,n):\n",
    "        try: # Verificando em qual aba está - 1 a 5 - caso não esteja na aba certa, clica-se na aba correta\n",
    "            driver.find_element(\n",
    "                by=By.XPATH,\n",
    "                value=f'//*[@id=\"results\"]/nav/ul/li[{i+1}]/a',\n",
    "                ).click()\n",
    "            sleep(2)\n",
    "            driver.find_element(\n",
    "                by = By.XPATH,\n",
    "                value = f'//*[@id=\"results\"]/table/tbody/tr[{j}]/td[3]/a',\n",
    "                ).click() # Clicando no link do atleta\n",
    "            driver.back()\n",
    "            sleep(2)\n",
    "        \n",
    "        except Exception: # Caso ja esteja na aba correta, vai direto pro atleta\n",
    "            try:\n",
    "                driver.find_element(\n",
    "                    by = By.XPATH,\n",
    "                    value = f'//*[@id=\"results\"]/table/tbody/tr[{j}]/td[3]/a',\n",
    "                    ).click() # Clicando no link do atleta\n",
    "                driver.back()\n",
    "                sleep(2)\n",
    "            except Exception:\n",
    "                break\n",
    "\n"
   ]
  },
  {
   "cell_type": "code",
   "execution_count": 133,
   "metadata": {},
   "outputs": [],
   "source": [
    "def verifica_nomes_atletas():\n",
    "    try:\n",
    "        # Tente encontrar um elemento que contenha os nomes dos atletas\n",
    "        driver.find_element(By.XPATH, '//*[@id=\"results\"]/table/tbody/tr/td[2]/a')\n",
    "        return True  # Se encontrar, retorna True (há nomes de atletas)\n",
    "    except NoSuchElementException:\n",
    "        return False \n",
    "\n",
    "def verifica_num_pag():\n",
    "    try:\n",
    "        num_paginas = len(driver.find_elements(By.XPATH, '//*[@id=\"results\"]/nav/ul/li'))\n",
    "        if num_paginas == 0:\n",
    "            num_paginas = 1\n",
    "        else:\n",
    "            num_paginas\n",
    "    except:\n",
    "        num_paginas = 1\n",
    "    \n",
    "    return num_paginas\n",
    "\n",
    "\n",
    "def pega_nomes_atletas(nomes_atletas):\n",
    "    ver = verifica_nomes_atletas()\n",
    "    print(ver)\n",
    "    pag = verifica_num_pag()\n",
    "    print(pag)\n",
    "    if ver:\n",
    "        for a in range(1,pag+1):\n",
    "            for n in range(1,26):          \n",
    "                try:  \n",
    "                    nome = driver.find_element(\n",
    "                                by=By.XPATH,\n",
    "                                value=f'//*[@id=\"results\"]/table/tbody/tr[{n}]/td[2]/a',\n",
    "                            ).text\n",
    "                    nomes_atletas.append(nome)\n",
    "                    print(nome)\n",
    "                    #sleep(2)\n",
    "                except Exception:\n",
    "                    break\n",
    "            try:\n",
    "                print(a)\n",
    "                print(f'//*[@id=\"results\"]/nav/ul/li[{a+2}]/a')\n",
    "                driver.find_element(\n",
    "                    by=By.XPATH,\n",
    "                    value=f'//*[@id=\"results\"]/nav/ul/li[{a+2}]/a',\n",
    "                    ).click()\n",
    "                sleep(5)\n",
    "                #a = a+1\n",
    "            except NoSuchElementException:\n",
    "                # Se não houver próxima página, saia do loop\n",
    "                #a = 10\n",
    "                break\n",
    "    else:\n",
    "        print(\"sem nomes\")\n",
    "\n",
    "\n"
   ]
  },
  {
   "cell_type": "code",
   "execution_count": 134,
   "metadata": {},
   "outputs": [
    {
     "name": "stdout",
     "output_type": "stream",
     "text": [
      "True\n",
      "1\n",
      "1\n",
      "//*[@id=\"results\"]/nav/ul/li[3]/a\n"
     ]
    }
   ],
   "source": [
    "nomes_atletas = []\n",
    "pega_nomes_atletas(nomes_atletas)"
   ]
  },
  {
   "cell_type": "code",
   "execution_count": 128,
   "metadata": {},
   "outputs": [],
   "source": [
    "# Selecionando nomes e faixa de idade dos corredore\n",
    "def pega_faixas_nomes(faixas_etarias, nomes_atletas):\n",
    "    for i in range(2,11):\n",
    "        # Clica no expandir as idades\n",
    "        driver.find_element(\n",
    "            by = By.XPATH,\n",
    "            value = '//*[@id=\"premium-enhanced\"]/ul/ul[2]/li[11]/button'\n",
    "        ).click()\n",
    "        sleep(2)\n",
    "\n",
    "        # Clica na faixa idade\n",
    "        #print(f'//*[@id=\"premium-enhanced\"]/ul/ul[2]/li[{i}]/a')\n",
    "        driver.find_element(\n",
    "            by = By.XPATH,\n",
    "            value = f'//*[@id=\"premium-enhanced\"]/ul/ul[2]/li[{i}]/a'\n",
    "        ).click()\n",
    "        # Pega o texto da faixa etaria\n",
    "        faixa_texto = driver.find_element(\n",
    "            by = By.XPATH,\n",
    "            value = f'//*[@id=\"premium-enhanced\"]/ul/ul[2]/li[{i}]/a'\n",
    "        ).text\n",
    "        print(faixa_texto)\n",
    "        faixas_etarias.append(faixa_texto)\n",
    "        sleep(3)        \n",
    "        # Pega o nome do atleta\n",
    "        pega_nomes_atletas(nomes_atletas)\n",
    "        \n",
    "        sleep(2)\n",
    "\n"
   ]
  },
  {
   "cell_type": "code",
   "execution_count": 129,
   "metadata": {},
   "outputs": [
    {
     "name": "stdout",
     "output_type": "stream",
     "text": [
      "False\n",
      "1\n",
      "sem nomes\n",
      "True\n",
      "1\n",
      "1\n",
      "//*[@id=\"results\"]/nav/ul/li[3]/a\n",
      "True\n",
      "1\n",
      "1\n",
      "//*[@id=\"results\"]/nav/ul/li[3]/a\n",
      "True\n",
      "4\n",
      "1\n",
      "//*[@id=\"results\"]/nav/ul/li[3]/a\n",
      "Anderson Batata\n",
      "Paty Suellen\n",
      "Luis O R Ratto\n",
      "Cris Pescarmona ツ\n",
      "Lillian Oliveira\n",
      "Aquaria Mundi\n",
      "Tony Ortiz\n",
      "Rebeka Oppitz\n",
      "CRISTIANO MORSCHBACHER\n",
      "Tiago Schmidt da Silva\n",
      "João Paulo Souza\n",
      "Mara Silva\n",
      "Eduardo Dudu\n",
      "Lilian L. Andrade\n",
      "Danilo Patricio Barbosa\n",
      "Arthur Nagae\n",
      "Elisângela Nogueira\n",
      "GUTO 🇧🇷#NFG🇧🇷\n",
      "Ana Jugurta\n",
      "Evelyn Carboneiro\n",
      "Káh Vieira\n",
      "Robson Ribeiro\n",
      "2\n",
      "//*[@id=\"results\"]/nav/ul/li[4]/a\n",
      "True\n",
      "1\n",
      "1\n",
      "//*[@id=\"results\"]/nav/ul/li[3]/a\n",
      "True\n",
      "1\n",
      "1\n",
      "//*[@id=\"results\"]/nav/ul/li[3]/a\n",
      "False\n",
      "1\n",
      "sem nomes\n",
      "False\n",
      "1\n",
      "sem nomes\n",
      "False\n",
      "1\n",
      "sem nomes\n"
     ]
    }
   ],
   "source": [
    "faixas_etarias = []\n",
    "nomes_atletas = []\n",
    "\n",
    "pega_faixas_nomes(faixas_etarias,nomes_atletas)\n",
    "#pega_nomes_atletas(nomes_atletas)"
   ]
  },
  {
   "cell_type": "code",
   "execution_count": 120,
   "metadata": {},
   "outputs": [
    {
     "data": {
      "text/plain": [
       "9"
      ]
     },
     "execution_count": 120,
     "metadata": {},
     "output_type": "execute_result"
    }
   ],
   "source": [
    "len(nomes_atletas)\n",
    "len(faixas_etarias)"
   ]
  },
  {
   "cell_type": "code",
   "execution_count": 121,
   "metadata": {},
   "outputs": [
    {
     "data": {
      "text/plain": [
       "['Graci Lindenmayr #WRTrail',\n",
       " 'Mariana De Giovanni',\n",
       " 'Henrique Reis',\n",
       " 'Michel Morais',\n",
       " 'Larissa Rodrigo',\n",
       " 'Nicolas Queyroux',\n",
       " 'Patricia Furtado',\n",
       " 'Jose Juliano Lourenço',\n",
       " 'Mariana Trindade',\n",
       " 'Ana Carol Cassinelli',\n",
       " 'Arthur Nagae',\n",
       " 'Elisângela Nogueira',\n",
       " 'GUTO 🇧🇷#NFG🇧🇷',\n",
       " 'Ana Jugurta',\n",
       " 'Evelyn Carboneiro',\n",
       " 'Káh Vieira',\n",
       " 'Robson Ribeiro']"
      ]
     },
     "execution_count": 121,
     "metadata": {},
     "output_type": "execute_result"
    }
   ],
   "source": [
    "nomes_atletas"
   ]
  },
  {
   "cell_type": "code",
   "execution_count": 52,
   "metadata": {},
   "outputs": [
    {
     "ename": "ValueError",
     "evalue": "Shape of passed values is (6, 1), indices imply (9, 1)",
     "output_type": "error",
     "traceback": [
      "\u001b[1;31m---------------------------------------------------------------------------\u001b[0m",
      "\u001b[1;31mValueError\u001b[0m                                Traceback (most recent call last)",
      "Cell \u001b[1;32mIn[52], line 1\u001b[0m\n\u001b[1;32m----> 1\u001b[0m df_teste \u001b[38;5;241m=\u001b[39m \u001b[43mpd\u001b[49m\u001b[38;5;241;43m.\u001b[39;49m\u001b[43mDataFrame\u001b[49m\u001b[43m(\u001b[49m\u001b[43mnomes_atletas\u001b[49m\u001b[43m,\u001b[49m\u001b[43m \u001b[49m\u001b[43mfaixas_etarias\u001b[49m\u001b[43m)\u001b[49m\n\u001b[0;32m      2\u001b[0m df_teste\u001b[38;5;241m.\u001b[39mhead()\n",
      "File \u001b[1;32mc:\\Users\\joaomm\\.conda\\envs\\gpx_strava_project\\lib\\site-packages\\pandas\\core\\frame.py:762\u001b[0m, in \u001b[0;36mDataFrame.__init__\u001b[1;34m(self, data, index, columns, dtype, copy)\u001b[0m\n\u001b[0;32m    754\u001b[0m         mgr \u001b[38;5;241m=\u001b[39m arrays_to_mgr(\n\u001b[0;32m    755\u001b[0m             arrays,\n\u001b[0;32m    756\u001b[0m             columns,\n\u001b[1;32m   (...)\u001b[0m\n\u001b[0;32m    759\u001b[0m             typ\u001b[38;5;241m=\u001b[39mmanager,\n\u001b[0;32m    760\u001b[0m         )\n\u001b[0;32m    761\u001b[0m     \u001b[38;5;28;01melse\u001b[39;00m:\n\u001b[1;32m--> 762\u001b[0m         mgr \u001b[38;5;241m=\u001b[39m \u001b[43mndarray_to_mgr\u001b[49m\u001b[43m(\u001b[49m\n\u001b[0;32m    763\u001b[0m \u001b[43m            \u001b[49m\u001b[43mdata\u001b[49m\u001b[43m,\u001b[49m\n\u001b[0;32m    764\u001b[0m \u001b[43m            \u001b[49m\u001b[43mindex\u001b[49m\u001b[43m,\u001b[49m\n\u001b[0;32m    765\u001b[0m \u001b[43m            \u001b[49m\u001b[43mcolumns\u001b[49m\u001b[43m,\u001b[49m\n\u001b[0;32m    766\u001b[0m \u001b[43m            \u001b[49m\u001b[43mdtype\u001b[49m\u001b[38;5;241;43m=\u001b[39;49m\u001b[43mdtype\u001b[49m\u001b[43m,\u001b[49m\n\u001b[0;32m    767\u001b[0m \u001b[43m            \u001b[49m\u001b[43mcopy\u001b[49m\u001b[38;5;241;43m=\u001b[39;49m\u001b[43mcopy\u001b[49m\u001b[43m,\u001b[49m\n\u001b[0;32m    768\u001b[0m \u001b[43m            \u001b[49m\u001b[43mtyp\u001b[49m\u001b[38;5;241;43m=\u001b[39;49m\u001b[43mmanager\u001b[49m\u001b[43m,\u001b[49m\n\u001b[0;32m    769\u001b[0m \u001b[43m        \u001b[49m\u001b[43m)\u001b[49m\n\u001b[0;32m    770\u001b[0m \u001b[38;5;28;01melse\u001b[39;00m:\n\u001b[0;32m    771\u001b[0m     mgr \u001b[38;5;241m=\u001b[39m dict_to_mgr(\n\u001b[0;32m    772\u001b[0m         {},\n\u001b[0;32m    773\u001b[0m         index,\n\u001b[1;32m   (...)\u001b[0m\n\u001b[0;32m    776\u001b[0m         typ\u001b[38;5;241m=\u001b[39mmanager,\n\u001b[0;32m    777\u001b[0m     )\n",
      "File \u001b[1;32mc:\\Users\\joaomm\\.conda\\envs\\gpx_strava_project\\lib\\site-packages\\pandas\\core\\internals\\construction.py:349\u001b[0m, in \u001b[0;36mndarray_to_mgr\u001b[1;34m(values, index, columns, dtype, copy, typ)\u001b[0m\n\u001b[0;32m    344\u001b[0m \u001b[38;5;66;03m# _prep_ndarraylike ensures that values.ndim == 2 at this point\u001b[39;00m\n\u001b[0;32m    345\u001b[0m index, columns \u001b[38;5;241m=\u001b[39m _get_axes(\n\u001b[0;32m    346\u001b[0m     values\u001b[38;5;241m.\u001b[39mshape[\u001b[38;5;241m0\u001b[39m], values\u001b[38;5;241m.\u001b[39mshape[\u001b[38;5;241m1\u001b[39m], index\u001b[38;5;241m=\u001b[39mindex, columns\u001b[38;5;241m=\u001b[39mcolumns\n\u001b[0;32m    347\u001b[0m )\n\u001b[1;32m--> 349\u001b[0m \u001b[43m_check_values_indices_shape_match\u001b[49m\u001b[43m(\u001b[49m\u001b[43mvalues\u001b[49m\u001b[43m,\u001b[49m\u001b[43m \u001b[49m\u001b[43mindex\u001b[49m\u001b[43m,\u001b[49m\u001b[43m \u001b[49m\u001b[43mcolumns\u001b[49m\u001b[43m)\u001b[49m\n\u001b[0;32m    351\u001b[0m \u001b[38;5;28;01mif\u001b[39;00m typ \u001b[38;5;241m==\u001b[39m \u001b[38;5;124m\"\u001b[39m\u001b[38;5;124marray\u001b[39m\u001b[38;5;124m\"\u001b[39m:\n\u001b[0;32m    353\u001b[0m     \u001b[38;5;28;01mif\u001b[39;00m \u001b[38;5;28missubclass\u001b[39m(values\u001b[38;5;241m.\u001b[39mdtype\u001b[38;5;241m.\u001b[39mtype, \u001b[38;5;28mstr\u001b[39m):\n",
      "File \u001b[1;32mc:\\Users\\joaomm\\.conda\\envs\\gpx_strava_project\\lib\\site-packages\\pandas\\core\\internals\\construction.py:420\u001b[0m, in \u001b[0;36m_check_values_indices_shape_match\u001b[1;34m(values, index, columns)\u001b[0m\n\u001b[0;32m    418\u001b[0m passed \u001b[38;5;241m=\u001b[39m values\u001b[38;5;241m.\u001b[39mshape\n\u001b[0;32m    419\u001b[0m implied \u001b[38;5;241m=\u001b[39m (\u001b[38;5;28mlen\u001b[39m(index), \u001b[38;5;28mlen\u001b[39m(columns))\n\u001b[1;32m--> 420\u001b[0m \u001b[38;5;28;01mraise\u001b[39;00m \u001b[38;5;167;01mValueError\u001b[39;00m(\u001b[38;5;124mf\u001b[39m\u001b[38;5;124m\"\u001b[39m\u001b[38;5;124mShape of passed values is \u001b[39m\u001b[38;5;132;01m{\u001b[39;00mpassed\u001b[38;5;132;01m}\u001b[39;00m\u001b[38;5;124m, indices imply \u001b[39m\u001b[38;5;132;01m{\u001b[39;00mimplied\u001b[38;5;132;01m}\u001b[39;00m\u001b[38;5;124m\"\u001b[39m)\n",
      "\u001b[1;31mValueError\u001b[0m: Shape of passed values is (6, 1), indices imply (9, 1)"
     ]
    }
   ],
   "source": [
    "df_teste = pd.DataFrame(nomes_atletas, faixas_etarias)\n",
    "df_teste.head()"
   ]
  },
  {
   "cell_type": "markdown",
   "metadata": {},
   "source": [
    "### Segments"
   ]
  },
  {
   "cell_type": "code",
   "execution_count": 12,
   "metadata": {},
   "outputs": [],
   "source": [
    "\n",
    "## Procura Segmentos Alvo\n",
    "segmento = \"La Mision\"\n",
    "\n",
    "campo_seg = WebDriverWait(driver, 60).until(\n",
    "    EC.presence_of_element_located(('xpath','//*[@id=\"keywords\"]')))\n",
    "campo_seg.send_keys(segmento)\n",
    "\n",
    "botao_run = WebDriverWait(driver, 60).until(\n",
    "    EC.presence_of_element_located(('xpath','//*[@id=\"activity-type\"]/ul/li[2]/a'))) \n",
    "botao_run.click()\n",
    "\n",
    "botao_busca = WebDriverWait(driver, 60).until(\n",
    "    EC.presence_of_element_located(('xpath','//*[@id=\"climb-search-button\"]'))) \n",
    "botao_busca.click()\n",
    "\n",
    "\n"
   ]
  },
  {
   "cell_type": "code",
   "execution_count": null,
   "metadata": {},
   "outputs": [],
   "source": []
  }
 ],
 "metadata": {
  "kernelspec": {
   "display_name": "gpx_strava_project",
   "language": "python",
   "name": "python3"
  },
  "language_info": {
   "codemirror_mode": {
    "name": "ipython",
    "version": 3
   },
   "file_extension": ".py",
   "mimetype": "text/x-python",
   "name": "python",
   "nbconvert_exporter": "python",
   "pygments_lexer": "ipython3",
   "version": "3.8.18"
  }
 },
 "nbformat": 4,
 "nbformat_minor": 2
}
